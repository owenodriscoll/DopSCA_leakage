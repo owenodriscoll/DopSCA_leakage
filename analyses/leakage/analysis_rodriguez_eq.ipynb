{
 "cells": [
  {
   "cell_type": "code",
   "execution_count": 2,
   "metadata": {},
   "outputs": [],
   "source": [
    "import numpy as np"
   ]
  },
  {
   "cell_type": "code",
   "execution_count": 8,
   "metadata": {},
   "outputs": [
    {
     "data": {
      "text/plain": [
       "0.06056177992996065"
      ]
     },
     "execution_count": 8,
     "metadata": {},
     "output_type": "execute_result"
    }
   ],
   "source": [
    "sigma_phi = 0.02\n",
    "vp = 130\n",
    "phi = np.deg2rad(90)\n",
    "gradient_sigma = 10**(0.1 / 10) - 1\n",
    "V = gradient_sigma * sigma_phi * vp * np.sin(phi)\n",
    "print(V)"
   ]
  },
  {
   "cell_type": "code",
   "execution_count": 16,
   "metadata": {},
   "outputs": [
    {
     "name": "stdout",
     "output_type": "stream",
     "text": [
      "0.9503540850547673\n"
     ]
    }
   ],
   "source": [
    "sigma_phi = 0.006\n",
    "vp = 6800\n",
    "phi = np.deg2rad(90)\n",
    "gradient_sigma = 10**(0.1 / 10) - 1\n",
    "V = gradient_sigma * sigma_phi * vp * np.sin(phi)\n",
    "print(V)"
   ]
  }
 ],
 "metadata": {
  "kernelspec": {
   "display_name": "dopsca",
   "language": "python",
   "name": "python3"
  },
  "language_info": {
   "codemirror_mode": {
    "name": "ipython",
    "version": 3
   },
   "file_extension": ".py",
   "mimetype": "text/x-python",
   "name": "python",
   "nbconvert_exporter": "python",
   "pygments_lexer": "ipython3",
   "version": "3.12.0"
  }
 },
 "nbformat": 4,
 "nbformat_minor": 2
}
