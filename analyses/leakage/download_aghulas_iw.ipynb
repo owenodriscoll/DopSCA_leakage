{
 "cells": [
  {
   "cell_type": "code",
   "execution_count": 33,
   "metadata": {},
   "outputs": [],
   "source": [
    "# NOTE env_colocate\n",
    "import os\n",
    "import netrc\n",
    "import asf_search as asf\n",
    "import numpy as np\n",
    "import matplotlib.pyplot as plt\n",
    "import glob\n",
    "import zipfile\n",
    "import datetime"
   ]
  },
  {
   "cell_type": "code",
   "execution_count": 4,
   "metadata": {},
   "outputs": [],
   "source": [
    "# Login\n",
    "machine = 'asf'\n",
    "credentials = netrc.netrc(file = '../../.netrc')\n",
    "login, _, password = credentials.authenticators(machine)\n",
    "\n",
    "session = asf.ASFSession().auth_with_creds(login, password)"
   ]
  },
  {
   "cell_type": "code",
   "execution_count": 39,
   "metadata": {},
   "outputs": [
    {
     "name": "stdout",
     "output_type": "stream",
     "text": [
      "Data points: 6\n",
      "Data points: 6\n",
      "Data points: 6\n",
      "Data points: 6\n"
     ]
    }
   ],
   "source": [
    "data_dir = \"/Users/opodriscoll/Documents/Data/Sentinel1/IW/\"\n",
    "\n",
    "scenarios = [\n",
    "    # 'Aghulas_20200309',\n",
    "    'Aghulas_20200321',\n",
    "    'Aghulas_20200402',\n",
    "    'Aghulas_20200414',\n",
    "    'Aghulas_20200426'\n",
    "    ]\n",
    "\n",
    "for scenario in scenarios:\n",
    "    aoi_aghulas = 'POLYGON((17.350073 -30.994239, 21.568823 -40.81186, 19.745092 -41.209784, 15.746069 -31.501434, 17.350073 -30.994239))' # Aghulas_20200309 2020-03-09T17:33:51\n",
    "\n",
    "    date_str = scenario[-8:]\n",
    "\n",
    "    date_start =  datetime.datetime.strptime(date_str, '%Y%m%d')\n",
    "    date_end = (date_start + datetime.timedelta(days=1))#.strftime('%Y-%m-%d')\n",
    "\n",
    "    res = asf.geo_search(\n",
    "        intersectsWith=aoi_aghulas,\n",
    "        platform=asf.PLATFORM.SENTINEL1,\n",
    "        beamMode = 'IW',\n",
    "        processingLevel=\"GRD_HD\",   # asf.constants.PRODUCT_TYPE\n",
    "        start=date_start.strftime('%Y-%m-%d'),\n",
    "        end=date_end.strftime('%Y-%m-%d'))\n",
    "\n",
    "    print(f\"Data points: {len(res)}\")\n",
    "\n",
    "    path = data_dir + scenario + '/'\n",
    "\n",
    "    n_threads = 6\n",
    "    res[:].download(path = path, \n",
    "                    processes=n_threads,\n",
    "                    session = session)\n",
    "    \n",
    "\n",
    "    zip_files = glob.glob(f\"{path}*.zip\")\n",
    "\n",
    "    for zip_file in zip_files:\n",
    "        with zipfile.ZipFile(zip_file, 'r') as zip_ref:\n",
    "            zip_ref.extractall(path)\n",
    "\n",
    "        os.remove(zip_file)"
   ]
  },
  {
   "cell_type": "code",
   "execution_count": 8,
   "metadata": {},
   "outputs": [],
   "source": []
  }
 ],
 "metadata": {
  "kernelspec": {
   "display_name": "env_colocate",
   "language": "python",
   "name": "python3"
  },
  "language_info": {
   "codemirror_mode": {
    "name": "ipython",
    "version": 3
   },
   "file_extension": ".py",
   "mimetype": "text/x-python",
   "name": "python",
   "nbconvert_exporter": "python",
   "pygments_lexer": "ipython3",
   "version": "3.12.0"
  }
 },
 "nbformat": 4,
 "nbformat_minor": 2
}
