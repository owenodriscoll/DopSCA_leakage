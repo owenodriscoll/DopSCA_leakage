{
 "cells": [
  {
   "cell_type": "code",
   "execution_count": 1,
   "metadata": {},
   "outputs": [],
   "source": [
    "import numpy as np\n",
    "import matplotlib.pyplot as plt"
   ]
  },
  {
   "cell_type": "code",
   "execution_count": 5,
   "metadata": {},
   "outputs": [
    {
     "data": {
      "text/plain": [
       "114.23973285781067"
      ]
     },
     "execution_count": 5,
     "metadata": {},
     "output_type": "execute_result"
    }
   ],
   "source": [
    "2*np.pi/0.055"
   ]
  },
  {
   "cell_type": "code",
   "execution_count": 2,
   "metadata": {},
   "outputs": [
    {
     "name": "stderr",
     "output_type": "stream",
     "text": [
      "/var/folders/90/d6h21jb17nz43871lx63sp_141mt08/T/ipykernel_3623/3994244395.py:6: RuntimeWarning: divide by zero encountered in divide\n",
      "  variance = (1 / (2*wavenumber*T_pp))**2 / (2*N_L) * (1-gamma**2)/gamma**2\n"
     ]
    }
   ],
   "source": [
    "Lamdba = 0.055\n",
    "T_pp = 1.15E-4 \n",
    "N_L = 2.5E3\n",
    "gamma = np.linspace(0, 1, 101)\n",
    "wavenumber = 2 * np.pi / Lamdba \n",
    "variance = (1 / (2*wavenumber*T_pp))**2 / (2*N_L) * (1-gamma**2)/gamma**2"
   ]
  },
  {
   "cell_type": "code",
   "execution_count": 3,
   "metadata": {},
   "outputs": [
    {
     "data": {
      "text/plain": [
       "(0.47000000000000003, 0.73, 0.99)"
      ]
     },
     "execution_count": 3,
     "metadata": {},
     "output_type": "execute_result"
    }
   ],
   "source": [
    "gamma[np.argmin(abs(np.sqrt(variance)-1))], gamma[np.argmin(abs(np.sqrt(variance)-0.5))], gamma[np.argmin(abs(np.sqrt(variance)-0.05))]"
   ]
  },
  {
   "cell_type": "markdown",
   "metadata": {},
   "source": [
    "## $V_l$"
   ]
  },
  {
   "cell_type": "code",
   "execution_count": 16,
   "metadata": {},
   "outputs": [
    {
     "data": {
      "text/plain": [
       "[0.0063124797799103925, 0.0031564578912990715, 0.00031542782403443613]"
      ]
     },
     "execution_count": 16,
     "metadata": {},
     "output_type": "execute_result"
    }
   ],
   "source": [
    "grad_sigma = 10**(0.1 /10) - 1\n",
    "sigma_az = np.logspace(-8, -1, 10001)\n",
    "vp = 6800\n",
    "az_angle = np.deg2rad(90)\n",
    "V_l = grad_sigma*sigma_az*vp*np.sin(az_angle)\n",
    "\n",
    "[i for i in [sigma_az[np.argmin(abs(V_l-1))], sigma_az[np.argmin(abs(V_l-0.5))], sigma_az[np.argmin(abs(V_l-0.05))]]]\n"
   ]
  },
  {
   "cell_type": "markdown",
   "metadata": {},
   "source": [
    "## Alpha"
   ]
  },
  {
   "cell_type": "code",
   "execution_count": 19,
   "metadata": {},
   "outputs": [
    {
     "data": {
      "text/plain": [
       "(0.00022878942329845035, 0.00011434200953744168, 1.1442102939077414e-05)"
      ]
     },
     "execution_count": 19,
     "metadata": {},
     "output_type": "execute_result"
    }
   ],
   "source": [
    "theta = np.logspace(-6, 0, 10000)\n",
    "vp = 6800\n",
    "sigma_att = vp * np.sin(theta) * np.sin(np.deg2rad(40))\n",
    "\n",
    "theta[np.argmin(abs(sigma_att-1))], theta[np.argmin(abs(sigma_att-0.5))], theta[np.argmin(abs(sigma_att-0.05))]"
   ]
  }
 ],
 "metadata": {
  "kernelspec": {
   "display_name": "xarray_xsar",
   "language": "python",
   "name": "python3"
  },
  "language_info": {
   "codemirror_mode": {
    "name": "ipython",
    "version": 3
   },
   "file_extension": ".py",
   "mimetype": "text/x-python",
   "name": "python",
   "nbconvert_exporter": "python",
   "pygments_lexer": "ipython3",
   "version": "3.12.2"
  }
 },
 "nbformat": 4,
 "nbformat_minor": 2
}
