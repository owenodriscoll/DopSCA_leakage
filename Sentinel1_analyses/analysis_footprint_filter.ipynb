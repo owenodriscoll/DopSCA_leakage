{
 "cells": [
  {
   "cell_type": "code",
   "execution_count": 1,
   "metadata": {},
   "outputs": [],
   "source": [
    "import os\n",
    "import sys \n",
    "import glob\n",
    "import dask\n",
    "import pyproj\n",
    "import copy\n",
    "import dask\n",
    "import numpy as np\n",
    "import scipy as sp\n",
    "import pandas as pd\n",
    "from matplotlib import pyplot as plt\n",
    "import xarray as xr\n",
    "import xarray_sentinel\n",
    "import dask.array as da\n",
    "import drama.utils as drtls\n",
    "import s1sea.geo_plot as gplt\n",
    "from s1sea.cmod5n import cmod5n_inverse, cmod5n_forward\n",
    "from s1sea.get_era5 import getera5\n",
    "from s1sea.s1_preprocess import grd_to_nrcs, nrcs_to_roughness\n",
    "from drama.performance.sar.antenna_patterns import sinc_bp, phased_array\n",
    "\n",
    "from dataclasses import dataclass\n",
    "from typing import Callable, Union, List, Dict, Any\n",
    "from velocity_leakage import S1DopplerLeakage"
   ]
  },
  {
   "cell_type": "code",
   "execution_count": null,
   "metadata": {},
   "outputs": [],
   "source": [
    "# importing from one directory  up\n",
    "sys.path.insert(0, \"../\" )\n",
    "from misc import round_to_hour, angular_difference, calculate_distance"
   ]
  },
  {
   "cell_type": "code",
   "execution_count": 2,
   "metadata": {},
   "outputs": [
    {
     "data": {
      "text/plain": [
       "['Carrib_20231104',\n",
       " 'Azores_20201127',\n",
       " 'Hawaii_20201106',\n",
       " 'Barbedos_20201110',\n",
       " 'Morroco_20201103',\n",
       " 'Aghulas_20200121',\n",
       " 'Aghulas_20191110',\n",
       " 'Iceland_20231107',\n",
       " 'Scotland_20231109',\n",
       " 'Aghulas_20190515']"
      ]
     },
     "execution_count": 2,
     "metadata": {},
     "output_type": "execute_result"
    }
   ],
   "source": [
    "data_dir = \"/Users/opodriscoll/Documents/Data/Sentinel1/IW/\"\n",
    "scenarios = glob.glob(f\"{data_dir}*\")\n",
    "scenarios = [scenario[scenario.rfind('/')+1:] for scenario in scenarios]\n",
    "scenarios = [ scenario for scenario in scenarios if \"_\" != scenario[0] ] \n",
    "scenarios"
   ]
  },
  {
   "cell_type": "code",
   "execution_count": 4,
   "metadata": {},
   "outputs": [],
   "source": [
    "scenario = 'Hawaii_20201106'\n",
    "files = glob.glob(f\"{data_dir+scenario}/*.SAFE\")\n",
    "\n",
    "test = S1DopplerLeakage(\n",
    "    filename=files,\n",
    "    era5_directory= 'era5_winds/',\n",
    "    scene_size=25_000,\n",
    "    az_mask_cutoff=80_000,\n",
    "    vx_sat=8000,\n",
    "    PRF=4,\n",
    "    resolution_spatial=200,\n",
    "    length_antenna=3.2,\n",
    "    beam_pattern='phased_array',\n",
    "    # era5_smoothing_window=15,\n",
    "    # denoise = True,\n",
    "    )"
   ]
  },
  {
   "cell_type": "code",
   "execution_count": 5,
   "metadata": {},
   "outputs": [
    {
     "name": "stdout",
     "output_type": "stream",
     "text": [
      "Associated file found and reloaded: /Users/opodriscoll/Documents/Data/Sentinel1/IW/Hawaii_20201106/40AB_9158_B0E7_B3F4_res200.nc\n",
      "Loading nearest ERA5 point w.r.t. observation from ERA5 file: era5_winds/era5_wind_202011.nc\n"
     ]
    }
   ],
   "source": [
    "test.apply()"
   ]
  },
  {
   "cell_type": "markdown",
   "metadata": {},
   "source": [
    "## - Beam footprint lowpass_filter"
   ]
  },
  {
   "cell_type": "code",
   "execution_count": 9,
   "metadata": {},
   "outputs": [
    {
     "data": {
      "text/plain": [
       "[<matplotlib.lines.Line2D at 0x2e2ff03e0>]"
      ]
     },
     "execution_count": 9,
     "metadata": {},
     "output_type": "execute_result"
    },
    {
     "data": {
      "image/png": "[encoded data removed]",
      "text/plain": [
       "<Figure size 640x480 with 1 Axes>"
      ]
     },
     "metadata": {},
     "output_type": "display_data"
    }
   ],
   "source": [
    "t = test.data['beam'].sel(grg = 600e3, method = 'nearest')\n",
    "\n",
    "f_min = 1/ t.az_idx.max()\n",
    "f_max = 1 / (2* np.diff(t.az_idx).mean())\n",
    "f =  np.arange(0, f_max, f_min)\n",
    "\n",
    "T = (abs(np.fft.fftshift(np.fft.fft(t)))**2)\n",
    "plt.loglog(f, T[-f.shape[0]:])"
   ]
  },
  {
   "cell_type": "markdown",
   "metadata": {},
   "source": [
    "## Frequencies below 10km-1 are filtered"
   ]
  },
  {
   "cell_type": "markdown",
   "metadata": {},
   "source": [
    "### Spacing between samples should be <= 5km, greater spacings will lose resolution"
   ]
  },
  {
   "cell_type": "code",
   "execution_count": 39,
   "metadata": {},
   "outputs": [],
   "source": [
    "def RMSE(x):\n",
    "    return np.sqrt(np.mean(x**2))"
   ]
  },
  {
   "cell_type": "code",
   "execution_count": 72,
   "metadata": {},
   "outputs": [
    {
     "name": "stdout",
     "output_type": "stream",
     "text": [
      "Valid values of C: [0.32, 0.4, 0.5, 0.64, 0.8, 1.0, 1.25, 1.6, 2.0, 2.5, 3.2, 4.0, 5.0, 8.0, 10.0, 16.0, 20.0]\n"
     ]
    }
   ],
   "source": [
    "A = 8000\n",
    "B = 100\n",
    "lower_limit = 0.3  # Replace with your lower limit\n",
    "upper_limit = 20.0  # Replace with your upper limit\n",
    "step_size = 0.01  # Adjust the step size as needed\n",
    "p = 1/step_size\n",
    "valid_values_of_C = []\n",
    "\n",
    "# Loop through the range with the specified step size\n",
    "for C in range(int(lower_limit * p), int(upper_limit * p) + 1, int(step_size * p)):\n",
    "    C /= p  # Convert back to decimal\n",
    "    if C != 0 and (A / C) % B == 0:\n",
    "        valid_values_of_C.append(C)\n",
    "\n",
    "print(\"Valid values of C:\", valid_values_of_C)\n"
   ]
  },
  {
   "cell_type": "code",
   "execution_count": 73,
   "metadata": {},
   "outputs": [],
   "source": [
    "\n",
    "rmses = []\n",
    "for PRF in valid_values_of_C:\n",
    "    test4 = S1DopplerLeakage(\n",
    "    filename=files,\n",
    "    era5_directory= 'era5_winds/',\n",
    "    scene_size=25_000,\n",
    "    az_mask_cutoff=60_000,\n",
    "    vx_sat=8000,\n",
    "    PRF=PRF,\n",
    "    resolution_spatial=100,\n",
    "    length_antenna=3.2,\n",
    "    beam_pattern='phased_array',\n",
    "    era5_smoothing_window=30\n",
    "    )\n",
    "\n",
    "    test4.apply()\n",
    "    rmse = RMSE(test4.data.V_leakage_pulse_rg_subscene - test4.data.V_leakage_pulse_rg_subscene_inverted).values*1\n",
    "    rmses.append(rmse)\n",
    "    "
   ]
  },
  {
   "cell_type": "code",
   "execution_count": 77,
   "metadata": {},
   "outputs": [
    {
     "data": {
      "text/plain": [
       "[<matplotlib.lines.Line2D at 0x12708d0a0>]"
      ]
     },
     "execution_count": 77,
     "metadata": {},
     "output_type": "execute_result"
    },
    {
     "data": {
      "image/png": "[encoded data removed]",
      "text/plain": [
       "<Figure size 640x480 with 1 Axes>"
      ]
     },
     "metadata": {},
     "output_type": "display_data"
    }
   ],
   "source": [
    "plt.plot(valid_values_of_C, rmses)"
   ]
  }
 ],
 "metadata": {
  "kernelspec": {
   "display_name": "xarray_sentinel",
   "language": "python",
   "name": "python3"
  },
  "language_info": {
   "codemirror_mode": {
    "name": "ipython",
    "version": 3
   },
   "file_extension": ".py",
   "mimetype": "text/x-python",
   "name": "python",
   "nbconvert_exporter": "python",
   "pygments_lexer": "ipython3",
   "version": "3.12.0"
  }
 },
 "nbformat": 4,
 "nbformat_minor": 2
}
