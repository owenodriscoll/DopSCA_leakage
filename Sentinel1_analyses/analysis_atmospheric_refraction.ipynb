{
 "cells": [
  {
   "cell_type": "code",
   "execution_count": 1,
   "metadata": {},
   "outputs": [],
   "source": [
    "import numpy as np"
   ]
  },
  {
   "cell_type": "code",
   "execution_count": 2,
   "metadata": {},
   "outputs": [
    {
     "data": {
      "text/plain": [
       "148.43542856129076"
      ]
     },
     "execution_count": 2,
     "metadata": {},
     "output_type": "execute_result"
    }
   ],
   "source": [
    "inc = np.deg2rad(60)\n",
    "az = np.deg2rad(2.00)\n",
    "H = 700e3\n",
    "S = H / np.cos(inc)\n",
    "S2 = S / np.cos(az)\n",
    "inc2 = np.arccos(np.cos(az)*np.cos(inc))\n",
    "inc3 = inc2 + np.deg2rad(0.1)\n",
    "S3 = H / np.cos(inc3)\n",
    "d_S = S3 - S2\n",
    "d_A = d_S * np.sin(az)\n",
    "d_Gr = d_S * np.cos(az)\n",
    "d_A\n",
    "# np.rad2deg(np.arccos(np.cos(np.deg2rad(2))*np.cos(np.deg2rad(40))))"
   ]
  }
 ],
 "metadata": {
  "kernelspec": {
   "display_name": "xarray_sentinel",
   "language": "python",
   "name": "python3"
  },
  "language_info": {
   "codemirror_mode": {
    "name": "ipython",
    "version": 3
   },
   "file_extension": ".py",
   "mimetype": "text/x-python",
   "name": "python",
   "nbconvert_exporter": "python",
   "pygments_lexer": "ipython3",
   "version": "3.12.0"
  }
 },
 "nbformat": 4,
 "nbformat_minor": 2
}
